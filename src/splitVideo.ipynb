{
 "cells": [
  {
   "cell_type": "code",
   "execution_count": 1,
   "id": "db08821e-7800-44a0-bed3-280bbd11ef0d",
   "metadata": {},
   "outputs": [],
   "source": [
    "from moviepy.editor import *\n",
    "\n",
    "from utils import *"
   ]
  },
  {
   "cell_type": "code",
   "execution_count": 2,
   "id": "0f4086b5-f643-41f9-b9c8-96c36982d71b",
   "metadata": {},
   "outputs": [],
   "source": [
    "def splitVideo(**kwargs) -> None:\n",
    "    \"\"\"\n",
    "    Function for multiple cuts in the video.\n",
    "    :param - origem: enter the location of the file.\n",
    "           - destino: enter the outputs you want.\n",
    "           - slices: defines where you want the cuts to be.\n",
    "    \"\"\"\n",
    "    video = VideoFileClip(kwargs[\"origem\"])\n",
    "    novo_video = iter(kwargs[\"destino\"])\n",
    "    \n",
    "    for i, f in kwargs[\"slices\"]:\n",
    "        fstart_time = convert_time_to_seconds(i)\n",
    "        fend_time = convert_time_to_seconds(f)\n",
    "        trimed_video = video.subclip(fstart_time, fend_time)\n",
    "        trimed_video.write_videofile(next(novo_video))\n",
    "        "
   ]
  },
  {
   "cell_type": "code",
   "execution_count": null,
   "id": "d530f946-cbbd-43d6-aa94-558efc147c6e",
   "metadata": {},
   "outputs": [],
   "source": [
    "orig = \"Tensorflow Object Detection in 5 Hours with Python  Full Course with 3 Projects.mp4\"\n",
    "dest = [\n",
    "    \"Start.mp4\", \n",
    "    \"SECTION 1-Installation and Setup.mp4\", \n",
    "    \"Cloning the Baseline Code from GitHub.mp4\",\n",
    "    \"Creating a Virtual Environment.mp4\",\n",
    "    \"SECTION 2-Collecting Images and Labelling.mp4\",\n",
    "    \"Collecting Images Using Your Webcam.mp4\",\n",
    "    \"Labelling Images for Object Detection using LabelImg.mp4\",\n",
    "    \"SECTION 3-Training Tensorflow Object Detection Models.mp4\",\n",
    "    \"Tensorflow Model Zoo.mp4\",\n",
    "    \"Installing Tensorflow Object Detection for Python.mp4\",\n",
    "    \"Installing CUDA and cuDNN.mp4\",\n",
    "    \"Using Tensorflow Model Zoo models.mp4\",\n",
    "    \"Creating and Updating a Label Map.mp4\",\n",
    "    \"Creating TF Records.mp4\",\n",
    "    \"Training Tensorflow Object Detection Models for Python.mp4\",\n",
    "    \"Evaluating OD Models (Precision and Recall).mp4\",\n",
    "    \"Evaluating OD Models using Tensorboard.mp4\",\n",
    "    \"SECTION 4-Detecting Objects from Images and Webcams.mp4\",\n",
    "    \"Detecting Objects in Images.mp4\",\n",
    "    \"Detecting Objects in Real Time using a Webcam.mp4\",\n",
    "    \"SECTION 5-Freezing TFOD and Converting to TFJS and TFLite.mp4\",\n",
    "    \"Freezing the Tensorflow Graph.mp4\",\n",
    "    \"Converting Object Detection Models to Tensorflow Js.mp4\",\n",
    "    \"Converting Object Detection Models to TFLite.mp4\",\n",
    "    \"SECTION 6-Performance Tuning to Improve Precision and Recall.mp4\",\n",
    "    \"SECTION 7-Training Object Detection Models on Colab.mp4\",\n",
    "    \"SECTION 8-Object Detection Projects with Python.mp4\",\n",
    "    \"Project 1-Detecting Object Defects with a Microscope.mp4\",\n",
    "    \"Project 2-Web Direction Detection using Tensorflow JS.mp4\",\n",
    "    \"Project 3-Sentiment Detection on a Raspberry Pi Using TFLite.mp4\"\n",
    "]\n",
    "slic =  [[\"0:0:0\", \"0:12:13\"],[\"0:12:13\", \"0:26:34\"],[\"0:26:34\", \"0:27:59\"],\n",
    "        [\"0:27:59\", \"0:39:57\"], [\"0:39:57\", \"0:44:48\"], [\"0:44:48\", \"1:4:11\"],\n",
    "        [\"1:4:11\", \"1:29:8\"], [\"1:29:8\", \"1:34:4\"], [\"1:34:4\", \"1:39:4\"],\n",
    "        [\"1:39:4\", \"1:56:41\"], [\"1:56:41\", \"2:6:42\"], [\"2:6:42\", \"2:9:21\"],\n",
    "        [\"2:9:21\", \"2:10:9\"], [\"2:10:9\", \"2:17:23\"], [\"2:17:23\", \"2:27:48\"],\n",
    "        [\"2:27:48\", \"2:29:8\"], [\"2:29:8\", \"2:34:7\"], [\"2:34:7\", \"2:34:52\"],\n",
    "        [\"2:34:52\", \"2:38:57\"], [\"2:38:57\", \"2:41:56\"], [\"2:41:56\", \"2:42:25\"],\n",
    "        [\"2:42:25\",\"2:44:17\"], [\"2:44:17\", \"2:45:27\"], [\"2:45:27\", \"2:47:45\"],\n",
    "        [\"2:47:45\", \"3:12:34\"], [\"3:12:34\",\"3:24:5\"], [\"3:24:5\", \"3:25:25\"],\n",
    "        [\"3:25:25\", \"3:57:34\"], [\"3:57:34\", \"4:47:40\"]]\n",
    "\n",
    "\n",
    "splitVideo(\n",
    "    origem=orig,\n",
    "    destino=dest,\n",
    "    slices=slic\n",
    ")"
   ]
  },
  {
   "cell_type": "code",
   "execution_count": 3,
   "id": "5def0779-7121-4dc5-a258-1e875889f519",
   "metadata": {},
   "outputs": [
    {
     "name": "stdout",
     "output_type": "stream",
     "text": [
      "Moviepy - Building video teste/teste1.mp4.\n",
      "MoviePy - Writing audio in teste1TEMP_MPY_wvf_snd.mp3\n"
     ]
    },
    {
     "name": "stderr",
     "output_type": "stream",
     "text": [
      "                                                                                                       \r"
     ]
    },
    {
     "name": "stdout",
     "output_type": "stream",
     "text": [
      "MoviePy - Done.\n",
      "Moviepy - Writing video teste/teste1.mp4\n",
      "\n"
     ]
    },
    {
     "name": "stderr",
     "output_type": "stream",
     "text": [
      "                                                                                                       \r"
     ]
    },
    {
     "name": "stdout",
     "output_type": "stream",
     "text": [
      "Moviepy - Done !\n",
      "Moviepy - video ready teste/teste1.mp4\n"
     ]
    }
   ],
   "source": [
    "orig = \"Como usar arquivos temporários - Live de Python201.mp4\"\n",
    "dest = [\n",
    "    \"teste/teste1.mp4\", \n",
    "    \"teste/teste2.mp4\", \n",
    "    \"teste/teste3.mp4\",\n",
    "]\n",
    "\n",
    "dest = [\n",
    "    \"teste/teste1.mp4\"\n",
    "]\n",
    "\n",
    "# slic =  [[\"0:0:0\", \"0:12:13\"],[\"0:12:13\", \"0:26:34\"],[\"0:26:34\", \"0:27:59\"]]\n",
    "slic =  [[\"0:0:0\", \"0:12:13\"]]\n",
    "\n",
    "splitVideo(\n",
    "    origem=orig,\n",
    "    destino=dest,\n",
    "    slices=slic\n",
    ")"
   ]
  }
 ],
 "metadata": {
  "kernelspec": {
   "display_name": "Python 3 (ipykernel)",
   "language": "python",
   "name": "python3"
  },
  "language_info": {
   "codemirror_mode": {
    "name": "ipython",
    "version": 3
   },
   "file_extension": ".py",
   "mimetype": "text/x-python",
   "name": "python",
   "nbconvert_exporter": "python",
   "pygments_lexer": "ipython3",
   "version": "3.10.4"
  }
 },
 "nbformat": 4,
 "nbformat_minor": 5
}
